{
  "nbformat": 4,
  "nbformat_minor": 0,
  "metadata": {
    "colab": {
      "provenance": [],
      "authorship_tag": "ABX9TyPBRFGAXXXg/26AX5/Ix4eE",
      "include_colab_link": true
    },
    "kernelspec": {
      "name": "python3",
      "display_name": "Python 3"
    },
    "language_info": {
      "name": "python"
    }
  },
  "cells": [
    {
      "cell_type": "markdown",
      "metadata": {
        "id": "view-in-github",
        "colab_type": "text"
      },
      "source": [
        "<a href=\"https://colab.research.google.com/github/Harssh-hash/Python-Assignment/blob/main/python_coding_assignment.ipynb\" target=\"_parent\"><img src=\"https://colab.research.google.com/assets/colab-badge.svg\" alt=\"Open In Colab\"/></a>"
      ]
    },
    {
      "cell_type": "code",
      "source": [],
      "metadata": {
        "id": "C_VB3gFnYcc3"
      },
      "execution_count": null,
      "outputs": []
    },
    {
      "cell_type": "markdown",
      "source": [
        " **Section 1: Python Operators and Control Structures (5 questions)**\n",
        ""
      ],
      "metadata": {
        "id": "FuUBVx_YSPbB"
      }
    },
    {
      "cell_type": "markdown",
      "source": [
        "1. Question: Write a Python program to calculate the sum of all numbers in a list using a for loop.\n",
        "\n",
        " Sample Input: numbers = [1, 2, 3, 4, 5]\n",
        " Sample Output: 15"
      ],
      "metadata": {
        "id": "4EN3XDbZSXS2"
      }
    },
    {
      "cell_type": "code",
      "source": [
        "numbers = numbers = list(map(int, input(\"Enter numbers separated by space: \").split()))\n",
        "print(\"List:\", numbers)\n",
        "\n",
        "sum=0\n",
        "for num in numbers:\n",
        "    sum+=num\n",
        "\n",
        "print(\"sum of numbers in list =\",sum)"
      ],
      "metadata": {
        "colab": {
          "base_uri": "https://localhost:8080/"
        },
        "id": "xzLpoDJ9SeyD",
        "outputId": "84f59381-fb77-4808-bd3c-64aa532d2550"
      },
      "execution_count": 1,
      "outputs": [
        {
          "output_type": "stream",
          "name": "stdout",
          "text": [
            "Enter numbers separated by space: 4 5 7 8 9 2\n",
            "List: [4, 5, 7, 8, 9, 2]\n",
            "sum of numbers in list = 35\n"
          ]
        }
      ]
    },
    {
      "cell_type": "markdown",
      "source": [
        "2. Question: What is the output of the following code?\n",
        "\n",
        "Code:\n",
        "\n",
        "x = 5\n",
        "y = 2\n",
        "print(x ** y)\n",
        "          Sample Output: 25"
      ],
      "metadata": {
        "id": "8Rj02J2FSuwO"
      }
    },
    {
      "cell_type": "code",
      "source": [
        "x=5\n",
        "#x is assigned as 5\n",
        "y=2\n",
        "#y is assigned as 2\n",
        "\n",
        "print(x**y)\n",
        "#The expression x**y uses the exponentiation operator `**`raising `x` to the power of `y`.\n",
        "#Resulting the output as **25**."
      ],
      "metadata": {
        "colab": {
          "base_uri": "https://localhost:8080/"
        },
        "id": "RwefY_VRS11J",
        "outputId": "89c2a945-a6bf-4a57-9b7a-c34b14fc89b6"
      },
      "execution_count": 2,
      "outputs": [
        {
          "output_type": "stream",
          "name": "stdout",
          "text": [
            "25\n"
          ]
        }
      ]
    },
    {
      "cell_type": "markdown",
      "source": [
        "3. Question: Write a Python program to check if a number is a palindrome using a while loop.\n",
        "\n",
        "Sample Input: num = 12321\n",
        "Sample Output: True\n"
      ],
      "metadata": {
        "id": "up_IdeGfS6zI"
      }
    },
    {
      "cell_type": "code",
      "source": [
        "num=int(input(\"enter a no. to check if it is palindrome or not :\"))\n",
        "temp=num\n",
        "#temp stores the original number (num)\n",
        "rev=0\n",
        "#rev is initialized to 0 to store the reversed number\n",
        "\n",
        "while temp>0:\n",
        "    lst=temp%10 #Extract Last Digit\n",
        "    rev=(rev*10)+lst #Build Reverse Number\n",
        "    temp//=10 #Remove Last Digit\n",
        "\n",
        "if num==rev: # compares the original number (num) with the reversed number (rev)\n",
        "    print(True)\n",
        "else:\n",
        "    print(False)"
      ],
      "metadata": {
        "colab": {
          "base_uri": "https://localhost:8080/"
        },
        "id": "EvFSdKIZTAob",
        "outputId": "48892f5d-d41b-43f4-ffa3-c598011139f2"
      },
      "execution_count": 3,
      "outputs": [
        {
          "output_type": "stream",
          "name": "stdout",
          "text": [
            "enter a no. to check if it is palindrome or not :56\n",
            "False\n"
          ]
        }
      ]
    },
    {
      "cell_type": "markdown",
      "source": [
        "4. Question: What is the output of the following code?\n",
        "\n",
        "Code:\n",
        "\n",
        "fruits = ['apple', 'banana', 'cherry']\n",
        "print(fruits[-1])\n",
        "Sample Output: cherry"
      ],
      "metadata": {
        "id": "VQHxT6HlTYZP"
      }
    },
    {
      "cell_type": "code",
      "source": [
        "fruits=['apple','banana','cherry']\n",
        "print(fruits[-1])\n",
        "#fruits[-1] access last element of the list\n",
        "#Python negative indexing is used to access elements from end of the list ,so the last element of list is cherry"
      ],
      "metadata": {
        "colab": {
          "base_uri": "https://localhost:8080/"
        },
        "id": "N_qd42lRTcL4",
        "outputId": "8c90ff35-1cd2-4078-9591-194497099777"
      },
      "execution_count": 5,
      "outputs": [
        {
          "output_type": "stream",
          "name": "stdout",
          "text": [
            "cherry\n"
          ]
        }
      ]
    },
    {
      "cell_type": "markdown",
      "source": [
        "5. Python program to calculate the average of all numbers in a list using a for loop.\n",
        "Sample Input: numbers = [1, 2, 3, 4, 5]\n",
        "\n",
        "Sample Output: 3.0"
      ],
      "metadata": {
        "id": "lT_vc0xsThrc"
      }
    },
    {
      "cell_type": "code",
      "source": [
        "numbers = numbers = list(map(int, input(\"Enter numbers separated by space: \").split()))\n",
        "print(\"List:\", numbers)\n",
        "\n",
        "sum=0\n",
        "for num in numbers:\n",
        "    sum+=num\n",
        "    avg=sum/5\n",
        "print(\"Average of numbers in list =\",avg)"
      ],
      "metadata": {
        "colab": {
          "base_uri": "https://localhost:8080/"
        },
        "id": "oJMEe_PsTnQt",
        "outputId": "8a4633b5-b006-4871-d36b-55ab0db56950"
      },
      "execution_count": 6,
      "outputs": [
        {
          "output_type": "stream",
          "name": "stdout",
          "text": [
            "Enter numbers separated by space: 4 6 5 7 8 \n",
            "List: [4, 6, 5, 7, 8]\n",
            "Average of numbers in list = 6.0\n"
          ]
        }
      ]
    },
    {
      "cell_type": "markdown",
      "source": [
        "**Section 2: Lists and Dictionaries (5 questions)**"
      ],
      "metadata": {
        "id": "Qz1YvehJVkqG"
      }
    },
    {
      "cell_type": "markdown",
      "source": [
        "6. Question: Write a Python program to create a dictionary with student names as keys and their grades as values.\n",
        "\n",
        " Sample Input: students = ['John', 'Alice', 'Bob'], grades = [90, 85, 95]\n",
        " Sample Output: {'John': 90, 'Alice': 85, 'Bob': 95}"
      ],
      "metadata": {
        "id": "OGD7Gm60VvBS"
      }
    },
    {
      "cell_type": "code",
      "source": [
        "students=['harsh', 'umesh', 'sai']\n",
        "grades = [90, 85, 95]\n",
        "\n",
        "stud=dict(zip(students,grades))\n",
        "#zip() function to combine both lists into pairs\n",
        "#dict() function converts pairs into dictionary\n",
        "print(stud)"
      ],
      "metadata": {
        "colab": {
          "base_uri": "https://localhost:8080/"
        },
        "id": "BMIjJeZ8V8mS",
        "outputId": "48942715-2add-4cf6-d858-36fff24f867e"
      },
      "execution_count": 8,
      "outputs": [
        {
          "output_type": "stream",
          "name": "stdout",
          "text": [
            "{'harsh': 90, 'umesh': 85, 'sai': 95}\n"
          ]
        }
      ]
    },
    {
      "cell_type": "markdown",
      "source": [
        "7. Question: What is the output of the following code?\n",
        "\n",
        "Code:\n",
        "\n",
        " numbers = [1, 2, 3, 4, 5]\n",
        " print(numbers[1:3])\n",
        "Sample Output: [2, 3]\n"
      ],
      "metadata": {
        "id": "U7d6Wy5KWXN1"
      }
    },
    {
      "cell_type": "code",
      "source": [
        "numbers=[1,2,3,4,5]\n",
        "\n",
        "print(numbers[1:3])\n",
        "\n",
        "#numbers[1:3] is called list slicing in Python\n",
        "#It Gets elements from index 1st to index 2nd ,excluding the 3rd index"
      ],
      "metadata": {
        "colab": {
          "base_uri": "https://localhost:8080/"
        },
        "id": "EltWJuOIWdXB",
        "outputId": "54cf12d8-8840-4342-c9a4-611a775665bb"
      },
      "execution_count": 9,
      "outputs": [
        {
          "output_type": "stream",
          "name": "stdout",
          "text": [
            "[2, 3]\n"
          ]
        }
      ]
    },
    {
      "cell_type": "markdown",
      "source": [
        "8. Question: Write a Python program to sort a list of numbers in ascending order using the sorted() function.\n",
        "\n",
        " Sample Input: numbers = [4, 2, 9, 6, 5]\n",
        " Sample Output: [2, 4, 5, 6, 9]"
      ],
      "metadata": {
        "id": "VOoNUB1lXSAy"
      }
    },
    {
      "cell_type": "code",
      "source": [
        "numbers=numbers = list(map(int, input(\"Enter numbers separated by space: \").split()))\n",
        "print(\"List:\", numbers)\n",
        "sort= sorted(numbers)\n",
        "print(\"sorted list \",sort)\n",
        "\n",
        "#sorted() function is a built-in Python function that sorts a list in ascending order by default"
      ],
      "metadata": {
        "colab": {
          "base_uri": "https://localhost:8080/"
        },
        "id": "usYPfq30XY_o",
        "outputId": "e6f97b31-2069-4110-f0e7-6fd81b473ae0"
      },
      "execution_count": 10,
      "outputs": [
        {
          "output_type": "stream",
          "name": "stdout",
          "text": [
            "Enter numbers separated by space: 6  8 9 4 2 6 \n",
            "List: [6, 8, 9, 4, 2, 6]\n",
            "sorted list  [2, 4, 6, 6, 8, 9]\n"
          ]
        }
      ]
    },
    {
      "cell_type": "markdown",
      "source": [
        "9. Question: What is the output of the following code?\n",
        "\n",
        "Code:\n",
        " fruits = {'apple': 5, 'banana': 10, 'cherry': 15}\n",
        " print(fruits.get('banana'))\n",
        " Sample Output: 10"
      ],
      "metadata": {
        "id": "ZvdD4E0mXnsc"
      }
    },
    {
      "cell_type": "code",
      "source": [
        "fruits={'apple':5,'banana':10,'cherry':15} #dictionary\n",
        "print(fruits.get('banana'))\n",
        "\n",
        "#fruits.get('banana') is a dictionary method used to get the value associated with the key 'banana', i.e 10"
      ],
      "metadata": {
        "id": "y36tpdkfXumF"
      },
      "execution_count": null,
      "outputs": []
    },
    {
      "cell_type": "markdown",
      "source": [
        "10. Python program to create a list of squares of all numbers from 1 to 10 using a list comprehension.\n",
        "Sample Output: [1, 4, 9, 16, 25, 36, 49, 64, 81, 100]"
      ],
      "metadata": {
        "id": "8pdoJDd3X4dh"
      }
    },
    {
      "cell_type": "code",
      "source": [
        "sqrs=[x**2 for x in range (1,11)]\n",
        "#x**2 calcuates square of numbers\n",
        "#for x in range(1, 11) Iterates through numbers 1 to 10\n",
        "print(\"list of squares from numbers 1 to 10 \",sqrs)"
      ],
      "metadata": {
        "colab": {
          "base_uri": "https://localhost:8080/"
        },
        "id": "87TDaiCMX_WB",
        "outputId": "e8fa6fe4-b9f9-43cc-9dc2-1a8329cf04dd"
      },
      "execution_count": 11,
      "outputs": [
        {
          "output_type": "stream",
          "name": "stdout",
          "text": [
            "list of squares from numbers 1 to 10  [1, 4, 9, 16, 25, 36, 49, 64, 81, 100]\n"
          ]
        }
      ]
    },
    {
      "cell_type": "markdown",
      "source": [
        "**Section 3: Advanced Topics**"
      ],
      "metadata": {
        "id": "7m9fI98sYJ-S"
      }
    },
    {
      "cell_type": "markdown",
      "source": [
        "11. Python program to calculate the factorial of a number using recursion.\n",
        "Sample Input: num = 5\n",
        "Sample Output: 120"
      ],
      "metadata": {
        "id": "dZkIcXClYkxA"
      }
    },
    {
      "cell_type": "code",
      "source": [
        "def fact(num):\n",
        "    if num==0 or num==1: #if num is 0 or 1 returns 1\n",
        "        return 1\n",
        "    else:\n",
        "        return num * fact(num-1) #recursion\n",
        "\n",
        "# Input number\n",
        "num = int(input(\"enter number to find its factorial :\"))\n",
        "\n",
        "# Calling the function and printing the result\n",
        "print(\"Factorial of\", num, \"is:\", fact(num))"
      ],
      "metadata": {
        "colab": {
          "base_uri": "https://localhost:8080/"
        },
        "id": "kLKCLSXsYuf8",
        "outputId": "55878045-e349-4f77-b249-a6f55cb64601"
      },
      "execution_count": 12,
      "outputs": [
        {
          "output_type": "stream",
          "name": "stdout",
          "text": [
            "enter number to find its factorial :6\n",
            "Factorial of 6 is: 720\n"
          ]
        }
      ]
    },
    {
      "cell_type": "markdown",
      "source": [
        "12. The output of the following code?\n",
        "Code: numbers = [1, 2, 3, 4, 5]\n",
        "print(list(reversed(numbers)))\n",
        "\n",
        "Sample Output: [5, 4, 3, 2, 1"
      ],
      "metadata": {
        "id": "itNQLEXrZB1w"
      }
    },
    {
      "cell_type": "code",
      "source": [
        "numbers=[1,2,3,4,5,6,7,8,9]\n",
        "print(list(reversed(numbers)))\n",
        "#reversed() function is a built-in Python function that reverses elements of any iterables (like lists, tuples, strings, etc.)"
      ],
      "metadata": {
        "colab": {
          "base_uri": "https://localhost:8080/"
        },
        "id": "PYk4s2m6ZHTw",
        "outputId": "1fde40d3-f69d-47a5-f00b-dfeed57aa387"
      },
      "execution_count": 15,
      "outputs": [
        {
          "output_type": "stream",
          "name": "stdout",
          "text": [
            "[9, 8, 7, 6, 5, 4, 3, 2, 1]\n"
          ]
        }
      ]
    },
    {
      "cell_type": "markdown",
      "source": [
        "13. Python program to create a generator that yields the Fibonacci sequence up to the nth term.\n",
        "Sample Input: n = 10\n",
        "Sample Output: [0, 1, 1, 2, 3, 5, 8, 13, 21, 34]"
      ],
      "metadata": {
        "id": "hhuXlr5PZaH0"
      }
    },
    {
      "cell_type": "code",
      "source": [
        "def fibonacci(n):\n",
        "    x, y = 0, 1\n",
        "    for _ in range(n):\n",
        "        yield x\n",
        "        x, y = y, x + y\n",
        "\n",
        "# Taking input from user\n",
        "n = int(input(\"Enter the number of terms: \"))\n",
        "\n",
        "# Create a generator object\n",
        "fib = fibonacci(n)\n",
        "\n",
        "# Convert the generator to a list and print it\n",
        "print(\"Fibonacci Sequence:\", list(fib))"
      ],
      "metadata": {
        "colab": {
          "base_uri": "https://localhost:8080/"
        },
        "id": "HWFQcvwYZlmn",
        "outputId": "bb058b57-9ea0-4900-ff60-bb51eef3bf71"
      },
      "execution_count": 18,
      "outputs": [
        {
          "output_type": "stream",
          "name": "stdout",
          "text": [
            "Enter the number of terms: 9\n",
            "Fibonacci Sequence: [0, 1, 1, 2, 3, 5, 8, 13, 21]\n"
          ]
        }
      ]
    },
    {
      "cell_type": "markdown",
      "source": [
        "14. The output of the following code?\n",
        "Code: import math\n",
        "print(math.pi)\n",
        "\n",
        "Sample Output: 3.14159..."
      ],
      "metadata": {
        "id": "qFTvmnQ9aLim"
      }
    },
    {
      "cell_type": "code",
      "source": [
        "import math\n",
        "print(math.pi)\n",
        "#import math Python’s built-in math module, provides mathematical functions and constants\n",
        "#math.pi is a constant in the math module that represents the mathematical value of pi"
      ],
      "metadata": {
        "colab": {
          "base_uri": "https://localhost:8080/"
        },
        "id": "kOur6p2_aP5e",
        "outputId": "6a91ef44-020b-4d0d-988a-89c16024e513"
      },
      "execution_count": 19,
      "outputs": [
        {
          "output_type": "stream",
          "name": "stdout",
          "text": [
            "3.141592653589793\n"
          ]
        }
      ]
    },
    {
      "cell_type": "markdown",
      "source": [
        "15. Python program to print the inverted star pyramid of height 5"
      ],
      "metadata": {
        "id": "zlPDvg6qaZlP"
      }
    },
    {
      "cell_type": "code",
      "source": [
        "height = 5\n",
        "\n",
        "for i in range(height, 0, -1):\n",
        "    print(\" \" * (height - i) + \"* \" * i)\n",
        "\n",
        "#Loop from height to 1  Controls the number of rows\n",
        "#Print spaces (\" \" * (height - i))  Creates right alignment\n",
        "#Print stars (\"* \" * i\")  Prints decreasing stars per row"
      ],
      "metadata": {
        "colab": {
          "base_uri": "https://localhost:8080/"
        },
        "id": "gpO1UDWTaf29",
        "outputId": "24b8c0d1-45a2-4bf7-8eab-2a6f8507af00"
      },
      "execution_count": 20,
      "outputs": [
        {
          "output_type": "stream",
          "name": "stdout",
          "text": [
            "* * * * * \n",
            " * * * * \n",
            "  * * * \n",
            "   * * \n",
            "    * \n"
          ]
        }
      ]
    }
  ]
}